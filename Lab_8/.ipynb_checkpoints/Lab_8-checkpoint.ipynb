{
 "cells": [
  {
   "cell_type": "code",
   "execution_count": 1,
   "metadata": {},
   "outputs": [],
   "source": [
    "import random\n",
    "import numpy as np\n",
    "import string\n",
    "import pandas as pd\n",
    "import tensorflow as tf\n",
    "from keras.utils import to_categorical\n",
    "from tensorflow.keras.models import Sequential\n",
    "from tensorflow.keras.layers import Conv2D, MaxPooling2D, Dense, Flatten\n",
    "from sklearn.model_selection import train_test_split"
   ]
  },
  {
   "cell_type": "code",
   "execution_count": 2,
   "metadata": {},
   "outputs": [],
   "source": [
    "string_length = 15\n",
    "string_char = 'abcd'\n",
    "demanded_data_length = 10000\n",
    "data_length = 0\n",
    "# Regular expression\n",
    "reg_exp = 'acaaa'\n",
    "X_reg_exp = []\n",
    "X_no_reg_exp = []"
   ]
  },
  {
   "cell_type": "code",
   "execution_count": 3,
   "metadata": {},
   "outputs": [],
   "source": [
    "def insert_into_string(string, regex):\n",
    "    last_possible_index = len(string) - len(regex)\n",
    "    start_index = random.randint(0, last_possible_index)\n",
    "    end_index = start_index + len(regex)\n",
    "    inserted_string = string[:start_index] + regex + string[end_index:]\n",
    "    return inserted_string\n",
    "\n",
    "def randString(chars = string_char , string_length=15):\n",
    "    return ''.join(random.choice(chars) for x in range(string_length))"
   ]
  },
  {
   "cell_type": "code",
   "execution_count": 4,
   "metadata": {},
   "outputs": [],
   "source": [
    "while data_length < demanded_data_length:\n",
    "    new_string = \"\"\n",
    "    random_string = randString()\n",
    "    new_string = new_string + random_string\n",
    "    \n",
    "    if reg_exp in new_string:\n",
    "        if len(X_reg_exp) < demanded_data_length/2:\n",
    "            X_reg_exp.append(new_string)\n",
    "    else:\n",
    "        if len(X_no_reg_exp) < demanded_data_length/2:\n",
    "            X_no_reg_exp.append(new_string)\n",
    "        elif len(X_no_reg_exp) >= demanded_data_length/2:\n",
    "            regex_string = insert_into_string(new_string, reg_exp)\n",
    "            X_reg_exp.append(regex_string)\n",
    "    data_length = len(X_reg_exp) + len(X_no_reg_exp)\n"
   ]
  },
  {
   "cell_type": "code",
   "execution_count": 5,
   "metadata": {},
   "outputs": [],
   "source": [
    "X_data = X_reg_exp + X_no_reg_exp\n",
    "\n",
    "y_data = [0]*len(X_data)\n",
    "for x in range(10000):\n",
    "    if reg_exp in X_data[x]:\n",
    "        y_data[x] = 1\n",
    "    else:\n",
    "        y_data[x] = 0\n",
    "data_set = pd.DataFrame(X_data, columns = ['string'])\n",
    "data_set['label'] = y_data\n",
    "data_set = data_set.sample(frac = 1) \n",
    "#To this moment shuffled dataset is prepared\n",
    "#It contains Strings and Labels (matching to regex)"
   ]
  },
  {
   "cell_type": "code",
   "execution_count": 6,
   "metadata": {
    "scrolled": true
   },
   "outputs": [
    {
     "name": "stdout",
     "output_type": "stream",
     "text": [
      "               string  label\n",
      "470   ddaaacaaacaaccc      1\n",
      "3934  bbacccddccacaaa      1\n",
      "9026  bdbdccacacbacca      0\n",
      "4044  dbacbbaacaaabca      1\n",
      "6527  bbcbcdaabbbbacb      0\n",
      "...               ...    ...\n",
      "2747  dacaaabdbadbbda      1\n",
      "3356  babccadbcacaaac      1\n",
      "8136  cadcacdcacbcadb      0\n",
      "368   ccacaaaddabbdbd      1\n",
      "3968  cbbbdbacacaaacb      1\n",
      "\n",
      "[10000 rows x 2 columns]\n"
     ]
    }
   ],
   "source": [
    "print(data_set)"
   ]
  },
  {
   "cell_type": "code",
   "execution_count": 7,
   "metadata": {},
   "outputs": [],
   "source": [
    "#Splitting dataset into training and testing data\n",
    "X = data_set[\"string\"]\n",
    "X = X.values\n",
    "y = data_set[\"label\"]\n",
    "y = y.values\n",
    "X_train, X_test, y_train, y_test = train_test_split(X, y, test_size=0.2)"
   ]
  },
  {
   "cell_type": "code",
   "execution_count": 8,
   "metadata": {},
   "outputs": [
    {
     "name": "stderr",
     "output_type": "stream",
     "text": [
      "D:\\Anaconda\\lib\\site-packages\\ipykernel_launcher.py:5: DeprecationWarning: The binary mode of fromstring is deprecated, as it behaves surprisingly on unicode inputs. Use frombuffer instead\n",
      "  \"\"\"\n",
      "D:\\Anaconda\\lib\\site-packages\\ipykernel_launcher.py:10: DeprecationWarning: The binary mode of fromstring is deprecated, as it behaves surprisingly on unicode inputs. Use frombuffer instead\n",
      "  # Remove the CWD from sys.path while we load stuff.\n"
     ]
    },
    {
     "data": {
      "text/plain": [
       "(8000,)"
      ]
     },
     "execution_count": 8,
     "metadata": {},
     "output_type": "execute_result"
    }
   ],
   "source": [
    "#One hot encoding X train and test data\n",
    "#Changing strings into ints where a=0, b=1, c=2, d=3\n",
    "X_train_encoded = X_train\n",
    "for train in range(len(X_train_encoded)):\n",
    "    X_train_encoded[train] = np.fromstring(X_train_encoded[train], dtype=np.uint8)-97\n",
    "    X_train_encoded[train] = tf.one_hot(X_train_encoded[train], 4, dtype=tf.uint8)\n",
    "    train += 1\n",
    "X_test_encoded = X_test    \n",
    "for test in range(len(X_test_encoded)):\n",
    "    X_test_encoded[test] = np.fromstring(X_test_encoded[test], dtype=np.uint8)-97\n",
    "    X_test_encoded[test] = tf.one_hot(X_test_encoded[test], 4, dtype=tf.uint8)\n",
    "    test += 1\n",
    "X_train_encoded.shape"
   ]
  },
  {
   "cell_type": "code",
   "execution_count": 9,
   "metadata": {},
   "outputs": [
    {
     "name": "stdout",
     "output_type": "stream",
     "text": [
      "(8000, 15, 4, 1)\n"
     ]
    }
   ],
   "source": [
    "#Changing the shape of X train and test data from (8000) to (8000,15,4)\n",
    "x1 = np.array(X_train_encoded) \n",
    "X_train_set = []\n",
    "for i in range(len(x1)):\n",
    "    X_train_set.append(x1[i])\n",
    "    i += 1\n",
    "X_train_set = np.array(X_train_set)\n",
    "\n",
    "x2 = np.array(X_test_encoded) \n",
    "X_test_set = []\n",
    "for j in range(len(x2)):\n",
    "    X_test_set.append(x2[j])\n",
    "    j += 1\n",
    "X_test_set = np.array(X_test_set)\n",
    "#Reshaping data\n",
    "X_train_set = X_train_set.reshape((8000, 15, 4, 1))\n",
    "X_test_set = X_test_set.reshape((2000, 15, 4, 1))\n",
    "print(X_train_set.shape)"
   ]
  },
  {
   "cell_type": "code",
   "execution_count": 10,
   "metadata": {
    "scrolled": true
   },
   "outputs": [],
   "source": [
    "#One hot encoding y train and test data\n",
    "y_train_encoded = tf.one_hot(y_train, 1, dtype=tf.uint8)\n",
    "y_train_set = np.array(y_train_encoded) \n",
    "y_test_encoded = tf.one_hot(y_test, 1, dtype=tf.uint8)\n",
    "y_test_set = np.array(y_test_encoded)\n",
    "#Reshaping data\n",
    "y_train_set = y_train_set.reshape((8000, 1))\n",
    "y_test_set = y_test_set.reshape((2000, 1))"
   ]
  },
  {
   "cell_type": "code",
   "execution_count": 11,
   "metadata": {},
   "outputs": [
    {
     "name": "stdout",
     "output_type": "stream",
     "text": [
      "Model: \"sequential\"\n",
      "_________________________________________________________________\n",
      "Layer (type)                 Output Shape              Param #   \n",
      "=================================================================\n",
      "conv2d (Conv2D)              (None, 15, 4, 1)          61        \n",
      "_________________________________________________________________\n",
      "flatten (Flatten)            (None, 60)                0         \n",
      "_________________________________________________________________\n",
      "dense (Dense)                (None, 1)                 61        \n",
      "=================================================================\n",
      "Total params: 122\n",
      "Trainable params: 122\n",
      "Non-trainable params: 0\n",
      "_________________________________________________________________\n",
      "63/63 [==============================] - 0s 1ms/step - loss: 0.5605 - accuracy: 0.7220\n",
      "Final test set loss: 0.560511589050293\n",
      "Final test set accuracy: 0.722000002861023\n"
     ]
    }
   ],
   "source": [
    "model = Sequential()\n",
    "model.add(Conv2D(1, (15,4), padding='same', input_shape=(15, 4, 1))) \n",
    "model.add(Flatten())\n",
    "model.add(Dense(1, activation='relu'))\n",
    "\n",
    "model.compile(optimizer='adam', loss=\"binary_crossentropy\", metrics=['accuracy'])\n",
    "model.fit(X_train_set, y_train_set, epochs = 1, verbose = 0)\n",
    "\n",
    "model.summary()\n",
    "results = model.evaluate(X_test_set, y_test_set)\n",
    "print(f'Final test set loss: {results[0]}')\n",
    "print(f'Final test set accuracy: {results[1]}')"
   ]
  },
  {
   "cell_type": "code",
   "execution_count": 12,
   "metadata": {
    "scrolled": true
   },
   "outputs": [
    {
     "name": "stdout",
     "output_type": "stream",
     "text": [
      "Model: \"sequential_1\"\n",
      "_________________________________________________________________\n",
      "Layer (type)                 Output Shape              Param #   \n",
      "=================================================================\n",
      "conv2d_1 (Conv2D)            (None, 15, 4, 15)         915       \n",
      "_________________________________________________________________\n",
      "max_pooling2d (MaxPooling2D) (None, 3, 4, 15)          0         \n",
      "_________________________________________________________________\n",
      "flatten_1 (Flatten)          (None, 180)               0         \n",
      "_________________________________________________________________\n",
      "dense_1 (Dense)              (None, 1)                 181       \n",
      "=================================================================\n",
      "Total params: 1,096\n",
      "Trainable params: 1,096\n",
      "Non-trainable params: 0\n",
      "_________________________________________________________________\n",
      "63/63 [==============================] - 0s 751us/step - loss: 0.1822 - accuracy: 0.9650\n",
      "Final test set loss: 0.18216221034526825\n",
      "Final test set accuracy: 0.9649999737739563\n"
     ]
    }
   ],
   "source": [
    "model1 = Sequential()\n",
    "model1.add(Conv2D(15, (15,4), strides = 1, activation='relu', padding='same', input_shape=(15, 4, 1))) \n",
    "model1.add(MaxPooling2D((4,1)))\n",
    "model1.add(Flatten())\n",
    "model1.add(Dense(1, activation='relu'))\n",
    "\n",
    "model1.compile(optimizer='adam', loss=\"binary_crossentropy\", metrics=['accuracy'])\n",
    "model1.fit(X_train_set, y_train_set, epochs = 10, verbose = 0)\n",
    "\n",
    "model1.summary()\n",
    "results1 = model1.evaluate(X_test_set, y_test_set)\n",
    "print(f'Final test set loss: {results1[0]}')\n",
    "print(f'Final test set accuracy: {results1[1]}')"
   ]
  },
  {
   "cell_type": "code",
   "execution_count": null,
   "metadata": {},
   "outputs": [],
   "source": []
  }
 ],
 "metadata": {
  "kernelspec": {
   "display_name": "Python 3",
   "language": "python",
   "name": "python3"
  },
  "language_info": {
   "codemirror_mode": {
    "name": "ipython",
    "version": 3
   },
   "file_extension": ".py",
   "mimetype": "text/x-python",
   "name": "python",
   "nbconvert_exporter": "python",
   "pygments_lexer": "ipython3",
   "version": "3.7.6"
  }
 },
 "nbformat": 4,
 "nbformat_minor": 4
}
