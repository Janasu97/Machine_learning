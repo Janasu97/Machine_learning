{
 "cells": [
  {
   "cell_type": "code",
   "execution_count": 1,
   "metadata": {},
   "outputs": [],
   "source": [
    "import tensorflow as tf\n",
    "from keras.models import Sequential\n",
    "from keras.layers import Dense\n",
    "from keras.utils import to_categorical\n",
    "import numpy as np\n",
    "from numpy import argmax\n",
    "from sklearn.metrics import classification_report, confusion_matrix\n",
    "from sklearn.datasets import load_iris\n",
    "from sklearn.model_selection import train_test_split\n",
    "from sklearn import preprocessing\n",
    "from sklearn import metrics "
   ]
  },
  {
   "cell_type": "code",
   "execution_count": 5,
   "metadata": {},
   "outputs": [
    {
     "name": "stdout",
     "output_type": "stream",
     "text": [
      "Epoch 1/20\n",
      "4/4 [==============================] - 1s 61ms/step - loss: 1.1013 - accuracy: 0.4262 - val_loss: 1.0179 - val_accuracy: 0.3667\n",
      "Epoch 2/20\n",
      "4/4 [==============================] - 0s 10ms/step - loss: 1.0653 - accuracy: 0.3683 - val_loss: 0.9909 - val_accuracy: 0.7333\n",
      "Epoch 3/20\n",
      "4/4 [==============================] - 0s 10ms/step - loss: 1.0315 - accuracy: 0.6115 - val_loss: 0.9699 - val_accuracy: 0.7333\n",
      "Epoch 4/20\n",
      "4/4 [==============================] - 0s 10ms/step - loss: 0.9840 - accuracy: 0.6417 - val_loss: 0.9538 - val_accuracy: 0.7333\n",
      "Epoch 5/20\n",
      "4/4 [==============================] - 0s 10ms/step - loss: 0.9816 - accuracy: 0.6440 - val_loss: 0.9389 - val_accuracy: 0.7333\n",
      "Epoch 6/20\n",
      "4/4 [==============================] - 0s 10ms/step - loss: 0.9479 - accuracy: 0.6804 - val_loss: 0.9265 - val_accuracy: 0.7333\n",
      "Epoch 7/20\n",
      "4/4 [==============================] - 0s 9ms/step - loss: 0.9344 - accuracy: 0.6525 - val_loss: 0.9141 - val_accuracy: 0.7333\n",
      "Epoch 8/20\n",
      "4/4 [==============================] - 0s 10ms/step - loss: 0.9333 - accuracy: 0.6671 - val_loss: 0.9027 - val_accuracy: 0.7333\n",
      "Epoch 9/20\n",
      "4/4 [==============================] - 0s 10ms/step - loss: 0.9271 - accuracy: 0.6517 - val_loss: 0.8909 - val_accuracy: 0.7333\n",
      "Epoch 10/20\n",
      "4/4 [==============================] - 0s 9ms/step - loss: 0.9454 - accuracy: 0.6298 - val_loss: 0.8800 - val_accuracy: 0.7333\n",
      "Epoch 11/20\n",
      "4/4 [==============================] - 0s 10ms/step - loss: 0.9258 - accuracy: 0.6277 - val_loss: 0.8704 - val_accuracy: 0.7333\n",
      "Epoch 12/20\n",
      "4/4 [==============================] - 0s 10ms/step - loss: 0.9256 - accuracy: 0.6131 - val_loss: 0.8608 - val_accuracy: 0.7333\n",
      "Epoch 13/20\n",
      "4/4 [==============================] - 0s 10ms/step - loss: 0.8898 - accuracy: 0.6527 - val_loss: 0.8524 - val_accuracy: 0.7333\n",
      "Epoch 14/20\n",
      "4/4 [==============================] - 0s 9ms/step - loss: 0.8773 - accuracy: 0.6277 - val_loss: 0.8419 - val_accuracy: 0.7333\n",
      "Epoch 15/20\n",
      "4/4 [==============================] - 0s 10ms/step - loss: 0.8583 - accuracy: 0.6600 - val_loss: 0.8326 - val_accuracy: 0.7333\n",
      "Epoch 16/20\n",
      "4/4 [==============================] - 0s 10ms/step - loss: 0.8726 - accuracy: 0.6454 - val_loss: 0.8231 - val_accuracy: 0.7333\n",
      "Epoch 17/20\n",
      "4/4 [==============================] - 0s 9ms/step - loss: 0.8450 - accuracy: 0.6819 - val_loss: 0.8154 - val_accuracy: 0.7333\n",
      "Epoch 18/20\n",
      "4/4 [==============================] - 0s 10ms/step - loss: 0.8540 - accuracy: 0.6537 - val_loss: 0.8050 - val_accuracy: 0.7333\n",
      "Epoch 19/20\n",
      "4/4 [==============================] - 0s 10ms/step - loss: 0.8617 - accuracy: 0.6642 - val_loss: 0.7958 - val_accuracy: 0.7333\n",
      "Epoch 20/20\n",
      "4/4 [==============================] - 0s 10ms/step - loss: 0.8468 - accuracy: 0.6496 - val_loss: 0.7860 - val_accuracy: 0.7333\n"
     ]
    },
    {
     "data": {
      "text/plain": [
       "<tensorflow.python.keras.callbacks.History at 0x2bc31d6f148>"
      ]
     },
     "execution_count": 5,
     "metadata": {},
     "output_type": "execute_result"
    }
   ],
   "source": [
    "iris = load_iris()\n",
    "X = iris['data']\n",
    "y = to_categorical(iris['target'])\n",
    "\n",
    "X_train, X_test, y_train, y_test = train_test_split(X, y, test_size = 0.2)\n",
    "\n",
    "model = Sequential()\n",
    "model.add(Dense(1, input_dim=4, activation='relu'))\n",
    "model.add(Dense(20, activation='relu'))\n",
    "model.add(Dense(20, activation='relu'))\n",
    "model.add(Dense(3, activation='softmax'))\n",
    "model.compile(loss='categorical_crossentropy', metrics=['accuracy'])\n",
    "\n",
    "model.fit(X_train, y_train, validation_data=(X_test, y_test), epochs = 20)"
   ]
  },
  {
   "cell_type": "code",
   "execution_count": 6,
   "metadata": {
    "scrolled": true
   },
   "outputs": [
    {
     "name": "stdout",
     "output_type": "stream",
     "text": [
      "1/1 [==============================] - 0s 11ms/step - loss: 0.7860 - accuracy: 0.7333\n",
      "Final test set loss: 0.7860056757926941\n",
      "Final test set accuracy: 0.7333333492279053\n",
      "Model: \"sequential_2\"\n",
      "_________________________________________________________________\n",
      "Layer (type)                 Output Shape              Param #   \n",
      "=================================================================\n",
      "dense_8 (Dense)              (None, 1)                 5         \n",
      "_________________________________________________________________\n",
      "dense_9 (Dense)              (None, 20)                40        \n",
      "_________________________________________________________________\n",
      "dense_10 (Dense)             (None, 20)                420       \n",
      "_________________________________________________________________\n",
      "dense_11 (Dense)             (None, 3)                 63        \n",
      "=================================================================\n",
      "Total params: 528\n",
      "Trainable params: 528\n",
      "Non-trainable params: 0\n",
      "_________________________________________________________________\n"
     ]
    }
   ],
   "source": [
    "results = model.evaluate(X_test, y_test)\n",
    "print(f'Final test set loss: {results[0]}')\n",
    "print(f'Final test set accuracy: {results[1]}')\n",
    "model.summary()"
   ]
  },
  {
   "cell_type": "code",
   "execution_count": 22,
   "metadata": {},
   "outputs": [
    {
     "name": "stdout",
     "output_type": "stream",
     "text": [
      "WARNING:tensorflow:5 out of the last 5 calls to <function Model.make_predict_function.<locals>.predict_function at 0x00000230E8967E58> triggered tf.function retracing. Tracing is expensive and the excessive number of tracings could be due to (1) creating @tf.function repeatedly in a loop, (2) passing tensors with different shapes, (3) passing Python objects instead of tensors. For (1), please define your @tf.function outside of the loop. For (2), @tf.function has experimental_relax_shapes=True option that relaxes argument shapes that can avoid unnecessary retracing. For (3), please refer to https://www.tensorflow.org/guide/function#controlling_retracing and https://www.tensorflow.org/api_docs/python/tf/function for  more details.\n",
      "For 13 index of test data the model was mistaken.\n",
      "Actual type: 2 Predicted type: 1\n",
      "For 27 index of test data the model was mistaken.\n",
      "Actual type: 2 Predicted type: 1\n"
     ]
    }
   ],
   "source": [
    "prediction = model.predict(X_test)\n",
    "num = 30\n",
    "for i in range(num):\n",
    "    if argmax(y_test[i]) != argmax(prediction[i]):\n",
    "        print(f'For {i} index of test data the model was mistaken.')\n",
    "        print(f'Actual type: {argmax(y_test[i])} Predicted type: {argmax(prediction[i])}')\n"
   ]
  },
  {
   "cell_type": "code",
   "execution_count": 23,
   "metadata": {},
   "outputs": [
    {
     "name": "stdout",
     "output_type": "stream",
     "text": [
      "[[12  0  0]\n",
      " [ 0  6  0]\n",
      " [ 0  2 10]]\n"
     ]
    }
   ],
   "source": [
    "print(confusion_matrix(np.argmax(y_test, axis=1), np.argmax(prediction, axis=1)))"
   ]
  },
  {
   "cell_type": "code",
   "execution_count": null,
   "metadata": {},
   "outputs": [],
   "source": []
  }
 ],
 "metadata": {
  "kernelspec": {
   "display_name": "Python 3",
   "language": "python",
   "name": "python3"
  },
  "language_info": {
   "codemirror_mode": {
    "name": "ipython",
    "version": 3
   },
   "file_extension": ".py",
   "mimetype": "text/x-python",
   "name": "python",
   "nbconvert_exporter": "python",
   "pygments_lexer": "ipython3",
   "version": "3.7.6"
  }
 },
 "nbformat": 4,
 "nbformat_minor": 4
}
